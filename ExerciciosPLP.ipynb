{
  "nbformat": 4,
  "nbformat_minor": 0,
  "metadata": {
    "colab": {
      "provenance": [],
      "toc_visible": true,
      "authorship_tag": "ABX9TyOtNuJ+lxv0XGfknj347+hG",
      "include_colab_link": true
    },
    "kernelspec": {
      "name": "python3",
      "display_name": "Python 3"
    },
    "language_info": {
      "name": "python"
    }
  },
  "cells": [
    {
      "cell_type": "markdown",
      "metadata": {
        "id": "view-in-github",
        "colab_type": "text"
      },
      "source": [
        "<a href=\"https://colab.research.google.com/github/iDANfer/PLPexercicios/blob/main/ExerciciosPLP.ipynb\" target=\"_parent\"><img src=\"https://colab.research.google.com/assets/colab-badge.svg\" alt=\"Open In Colab\"/></a>"
      ]
    },
    {
      "cell_type": "markdown",
      "source": [
        "Programa 01 - Objetivo:Fazer a Leitura de duas nota e caulcular a media"
      ],
      "metadata": {
        "id": "YDBauJUOOSHh"
      }
    },
    {
      "cell_type": "code",
      "source": [
        "# Solicita que o usuário insira a primeira nota e a armazena na variável \"nota1\".\n",
        "nota1 = float(input(\"Informe a Nota 1: \"))\n",
        "\n",
        "# Solicita que o usuário insira a segunda nota e a armazena na variável \"nota2\".\n",
        "nota2 = float(input(\"Informe a Nota 2: \"))\n",
        "\n",
        "# Calcula a média das duas notas e armazena o resultado na variável \"med\".\n",
        "med = (nota1 + nota2) / 2\n",
        "\n",
        "# Imprime a mensagem informando a média final.\n",
        "print(\"A média final é:\")\n",
        "\n",
        "# Imprime o valor da média.\n",
        "print(med)\n"
      ],
      "metadata": {
        "id": "64yC7A4ANQ0Z"
      },
      "execution_count": null,
      "outputs": []
    },
    {
      "cell_type": "markdown",
      "source": [
        "Programa 02"
      ],
      "metadata": {
        "id": "bj-PRPkDOZgZ"
      }
    },
    {
      "cell_type": "code",
      "source": [
        "# Solicita ao usuário que informe o preço do produto e armazena o valor na variável \"precoProduto\".\n",
        "precoProduto = float(input(\"Informe o preço do produto: \"))\n",
        "\n",
        "# Solicita ao usuário que informe o valor do desconto e armazena o valor na variável \"descontoProduto\".\n",
        "descontoProduto = float(input(\"Informe o Valor do Desconto:\"))\n",
        "\n",
        "# Função para calcular o valor do desconto com base no preço do produto e a taxa de desconto informada.\n",
        "def valorDesconto(precoProduto, descontoProduto):\n",
        "    descontoFinal = precoProduto * descontoProduto / 100\n",
        "    return descontoFinal\n",
        "\n",
        "# Função para calcular o preço final após o desconto.\n",
        "def valorFinal(precoProduto, descontoProduto):\n",
        "    desconto = valorDesconto(precoProduto, descontoProduto)\n",
        "    precofinal = precoProduto - desconto\n",
        "    return precofinal\n",
        "\n",
        "# Calcula o valor do desconto com base nas funções definidas.\n",
        "resultadoDesconto = valorDesconto(precoProduto, descontoProduto)\n",
        "\n",
        "# Calcula o preço final com base nas funções definidas e no valor do desconto calculado anteriormente.\n",
        "resultadoFinal = valorFinal(precoProduto, resultadoDesconto)\n",
        "\n",
        "# Exibe o valor final após o desconto na tela.\n",
        "print(\"O Valor Final é:\", resultadoFinal)\n",
        "\n"
      ],
      "metadata": {
        "id": "RC3BtOCeO55g"
      },
      "execution_count": null,
      "outputs": []
    },
    {
      "cell_type": "code",
      "source": [
        "# Solicita ao usuário que informe o preço do produto e armazena o valor na variável \"precoProduto\".\n",
        "precoProduto = float(input(\"Informe o preço do produto: \"))\n",
        "\n",
        "# Solicita ao usuário que informe o valor do desconto e armazena o valor na variável \"descontoProduto\".\n",
        "descontoProduto = float(input(\"Informe o Valor do Desconto: \"))\n",
        "\n",
        "# Função para calcular o valor do desconto com base no preço do produto e na taxa de desconto informada.\n",
        "def valorDesconto(precoProduto, descontoProduto):\n",
        "    descontoFinal = precoProduto * descontoProduto / 100\n",
        "    return descontoFinal\n",
        "\n",
        "# Função para calcular o preço final após o desconto.\n",
        "def valorFinal(precoProduto, descontoProduto):\n",
        "    desconto = valorDesconto(precoProduto, descontoProduto)\n",
        "    precofinal = precoProduto - desconto\n",
        "    return precofinal\n",
        "\n",
        "# Calcula o valor do desconto com base nas funções definidas.\n",
        "resultadoDesconto = valorDesconto(precoProduto, descontoProduto)\n",
        "\n",
        "# Calcula o preço final com base nas funções definidas e no valor do desconto calculado anteriormente.\n",
        "resultadoFinal = valorFinal(precoProduto, descontoProduto)\n",
        "\n",
        "# Exibe o valor do desconto e o valor final após o desconto na tela.\n",
        "print(\"O Valor do Desconto é:\", resultadoDesconto)\n",
        "print(\"O Valor Final é:\", resultadoFinal)\n",
        "\n"
      ],
      "metadata": {
        "id": "0fKUQw_-ZJcD"
      },
      "execution_count": null,
      "outputs": []
    },
    {
      "cell_type": "markdown",
      "source": [
        "Escreva um programa para calcular a redução do tempo de vida de um fumante. pergunte a quantidade de cigarros fumados por dia e quantos anos ele ja fumou. considere que um fumante peder 10 minutos de vida a cada cigarro, e calcule quantos dias de vida um fumante perderá. Exiba o total em dias."
      ],
      "metadata": {
        "id": "C5ur2YsgVWMc"
      }
    },
    {
      "cell_type": "code",
      "source": [
        "# Solicita ao usuário que informe a quantidade de cigarros fumados por dia e armazena o valor em \"qtdCigarrosPd\".\n",
        "qtdCigarrosPd = int(input(\"Informe a quantidade de cigarros fumados por dia: \"))\n",
        "\n",
        "# Solicita ao usuário que informe a quantidade de anos já fumados e armazena o valor em \"qtdAnosF\".\n",
        "qtdAnosF = int(input(\"Informe a quantidade de anos já fumados: \"))\n",
        "\n",
        "# Função para calcular a redução em minutos da vida devido ao fumo.\n",
        "def reducaoMin(qtdAnosF, qtdCigarrosPd):\n",
        "    return qtdAnosF * 365 * qtdCigarrosPd * 10\n",
        "\n",
        "# Função para converter a redução em minutos para anos perdidos.\n",
        "def reducaoDias(reducaoMin):\n",
        "    anosPerdidos = reducaoMin / (60 * 24)\n",
        "    return anosPerdidos\n",
        "\n",
        "# Calcula a quantidade de minutos de vida perdidos devido ao fumo.\n",
        "mntPerdidos = reducaoMin(qtdAnosF, qtdCigarrosPd)\n",
        "\n",
        "# Converte os minutos em anos perdidos e armazena o resultado em \"anosPerdidos\".\n",
        "anosPerdidos = reducaoDias(mntPerdidos)\n",
        "\n",
        "# Exibe a quantidade de anos perdidos na tela formatado com duas casas decimais.\n",
        "print(\"Anos Perdidos:\", format(anosPerdidos, \".2f\"))\n"
      ],
      "metadata": {
        "id": "-H_xwtV4V3Br"
      },
      "execution_count": null,
      "outputs": []
    },
    {
      "cell_type": "markdown",
      "source": [
        "Escreva um programa para controlar uma máquina registradora . você deve solicitar ao usuário que digite o código do produto ea quantidade comprada. utilize a tabela de códigos  a seguir para obiter o preço de cada produto:\n",
        "\n",
        "Código Preço 1 - 0,50 ; 2- 1,00 ; 3- 4,00 ; 5- 7,00; 9- 8,00 ; seu programa deve exibir o total das compras depois que o usuario digitar 0. qualquer código dever gerar una mensagem de erro \"código invalido\"."
      ],
      "metadata": {
        "id": "CEctn5wYXht8"
      }
    },
    {
      "cell_type": "code",
      "source": [
        "# Função que calcula o total a pagar com base no código do produto e na quantidade comprada.\n",
        "def total_a_pagar(codigo_produto, qtd_comprada):\n",
        "    # Dicionário para mapear códigos de produtos para preços.\n",
        "    tabela_precos = {\n",
        "        1: 0.50,\n",
        "        2: 1.00,\n",
        "        3: 4.00,\n",
        "        5: 7.00,\n",
        "        9: 8.00\n",
        "    }\n",
        "\n",
        "    # Verifica se o código do produto é válido.\n",
        "    if codigo_produto in tabela_precos:\n",
        "        return qtd_comprada * tabela_precos[codigo_produto]\n",
        "    else:\n",
        "        return -1\n",
        "\n",
        "# Loop principal do programa.\n",
        "while True:\n",
        "    print(\"Tabela de Produtos:\")\n",
        "    print(\"Código 1 - Produto A - R$0.50\")\n",
        "    print(\"Código 2 - Produto B - R$1.00\")\n",
        "    print(\"Código 3 - Produto C - R$4.00\")\n",
        "    print(\"Código 5 - Produto D - R$7.00\")\n",
        "    print(\"Código 9 - Produto E - R$8.00\")\n",
        "    print(\"Código 0 - Finalizar\")\n",
        "\n",
        "    codigo_produto = int(input(\"Informe o código do produto (ou 0 para sair): \"))\n",
        "\n",
        "    if codigo_produto == 0:\n",
        "        print(\"Finalizando programa\")\n",
        "        break\n",
        "\n",
        "    qtd_comprada = int(input(\"Informe a quantidade desejada: \"))\n",
        "\n",
        "    # Chama a função para calcular o preço total.\n",
        "    preco_total = total_a_pagar(codigo_produto, qtd_comprada)\n",
        "\n",
        "    if preco_total >= 0:\n",
        "        print(\"O preço do produto é R$:\", preco_total)\n",
        "    else:\n",
        "        print(\"Código inválido\")\n",
        "\n"
      ],
      "metadata": {
        "id": "mB83xE8CgpRy"
      },
      "execution_count": null,
      "outputs": []
    },
    {
      "cell_type": "markdown",
      "source": [
        "Le um vetor de 8 posições e , em seguida lê os dois valores x e y quaisquer correspondentes a duas posições no vetor . o programa então imprime a soma dos valores encontrados nas respectivas posições x e y."
      ],
      "metadata": {
        "id": "_6KNIqDhdTz1"
      }
    },
    {
      "cell_type": "code",
      "source": [
        "def obter_vetor():\n",
        "    vetor = []\n",
        "    for i in range(8):\n",
        "        valor = int(input(f\"Digite o Valor para a posição {i}: \"))  # Solicita um valor para o vetor e armazena na lista vetor\n",
        "        vetor.append(valor)\n",
        "    return vetor\n",
        "\n",
        "def obter_x_y():\n",
        "    x = int(input(\"Digite o Valor de X (0-7): \"))  # Solicita o valor de x\n",
        "    y = int(input(\"Digite o Valor de Y (0-7): \"))  # Solicita o valor de y\n",
        "    return x, y\n",
        "\n",
        "def calcular_soma(vetor, x, y):\n",
        "    if 0 <= x < 8 and 0 <= y < 8:  # Verifica se x e y estão dentro do intervalo válido (0 a 7)\n",
        "        soma = vetor[x] + vetor[y]  # Calcula a soma dos valores nas posições x e y\n",
        "        return soma\n",
        "    else:\n",
        "        return None  # Retorna None se os valores de x ou y estiverem fora do intervalo válido\n",
        "\n",
        "def main():\n",
        "    vetor = obter_vetor()  # Chama a função para obter o vetor\n",
        "    x, y = obter_x_y()  # Chama a função para obter x e y\n",
        "    resultado = calcular_soma(vetor, x, y)  # Chama a função para calcular a soma\n",
        "\n",
        "    if resultado is not None:\n",
        "        print(f\"A soma dos valores na posição {x} e {y} é {resultado}\")  # Exibe a soma se os valores de x e y estiverem no intervalo válido\n",
        "    else:\n",
        "        print(\"Valores fora do intervalo válido\")  # Exibe uma mensagem se os valores de x ou y estiverem fora do intervalo válido\n",
        "\n",
        "if __name__ == \"__main__\":\n",
        "    main()\n"
      ],
      "metadata": {
        "id": "ULOCG3hYdSz1"
      },
      "execution_count": null,
      "outputs": []
    },
    {
      "cell_type": "markdown",
      "source": [
        "Faça um programa e phyton que receba do usuario um vetor com 10 posições. em seguida devera ser impresso o maior e o menor do vetor"
      ],
      "metadata": {
        "id": "dBYkF9qYjjwY"
      }
    },
    {
      "cell_type": "code",
      "source": [
        "\n",
        "def solicitar_valores():\n",
        "    vetor = []\n",
        "    soma = 0\n",
        "\n",
        "    for i in range(10):\n",
        "        while True:\n",
        "            try:\n",
        "                valor = int(input(f\"Digite o Valor para a posição {i+1}: \"))  # Solicita um valor do vetor\n",
        "                vetor.append(valor)\n",
        "                soma += valor  # Acumula o valor à variável soma\n",
        "                break  # Sai do loop se o valor for válido\n",
        "            except ValueError:\n",
        "                print(\"Valor inválido. Por favor, insira um número inteiro válido.\")\n",
        "\n",
        "    return vetor, soma\n",
        "\n",
        "def calcular_maior_menor_media(vetor):\n",
        "    maior = max(vetor)  # Encontra o maior valor no vetor\n",
        "    menor = min(vetor)  # Encontra o menor valor no vetor\n",
        "    media = sum(vetor) / len(vetor)  # Calcula a média dos valores no vetor\n",
        "    return maior, menor, media\n",
        "\n",
        "def contar_valores_maiores_que_cinco(vetor):\n",
        "    qtdMQ5 = sum(1 for valor in vetor if valor > 5)  # Contador de valores no vetor que são maiores que 5\n",
        "    return qtdMQ5\n",
        "\n",
        "def main():\n",
        "    vetor, soma = solicitar_valores()\n",
        "    maior, menor, media = calcular_maior_menor_media(vetor)\n",
        "    qtdMQ5 = contar_valores_maiores_que_cinco(vetor)\n",
        "\n",
        "    print(f\"O maior valor do vetor é: {maior}\")\n",
        "    print(f\"O menor valor do vetor é: {menor}\")\n",
        "    print(f\"A soma de todos os valores do vetor é: {soma}\")\n",
        "    print(f\"A média dos valores do vetor é: {media}\")\n",
        "    print(f\"A quantidade de valores maiores que 5 no vetor é: {qtdMQ5}\")\n",
        "\n",
        "if __name__ == \"__main__\":\n",
        "    main()\n"
      ],
      "metadata": {
        "id": "FyeqvWUJrBqB"
      },
      "execution_count": null,
      "outputs": []
    },
    {
      "cell_type": "markdown",
      "source": [
        "Crie um dicionário que é uma agenda e coloque nele os seguintes dados: chave (cpf), nome, idade, telefone. O programa deve ler um número indeterminado de dados, criar a agenda e imprimir todos os itens do dicionário no formato chave: nome, idade, fone.\n"
      ],
      "metadata": {
        "id": "22c2_t6EkiqL"
      }
    },
    {
      "cell_type": "code",
      "source": [
        "def adicionar_contato(agenda):\n",
        "    cpf = input(\"Digite o CPF: \")\n",
        "    nome = input(\"Digite o nome: \")\n",
        "    idade = input(\"Digite a idade: \")\n",
        "    telefone = input(\"Digite o telefone: \")\n",
        "\n",
        "    agenda[cpf] = {\n",
        "        \"nome\": nome,\n",
        "        \"idade\": idade,\n",
        "        \"telefone\": telefone,\n",
        "    }\n",
        "\n",
        "def imprimir_agenda(agenda):\n",
        "    for cpf, contato in agenda.items():\n",
        "        print(\"CPF:\",cpf, \"Nome:\",contato[\"nome\"],\"Idade:\", contato[\"idade\"],\"Telefone:\" ,contato[\"telefone\"])\n",
        "\n",
        "def main():\n",
        "    # Cria um dicionário vazio\n",
        "    agenda = {}\n",
        "\n",
        "    # Lê os dados da agenda\n",
        "    while True:\n",
        "        adicionar_contato(agenda)\n",
        "\n",
        "        # Pergunta se o usuário deseja continuar\n",
        "        continuar = input(\"Deseja continuar? (s/n): \")\n",
        "        if continuar != \"s\":\n",
        "            break\n",
        "\n",
        "    # Imprime os itens do dicionário\n",
        "    imprimir_agenda(agenda)\n",
        "\n",
        "if __name__ == \"__main__\":\n",
        "    main()\n",
        "\n"
      ],
      "metadata": {
        "id": "VNdlgKLQirLs"
      },
      "execution_count": null,
      "outputs": []
    },
    {
      "cell_type": "markdown",
      "source": [
        "Construa um dicionário com nome, salariobruto, salario liquido, para número indeterminado de pessoas, nele será calculado o desconto de 8% do INSS e de 10% para IRPF. Preciso que o programa seja escrito na Linguagem Python de forma Otimizada..\n"
      ],
      "metadata": {
        "id": "5WPLis4Rli0P"
      }
    },
    {
      "cell_type": "code",
      "source": [
        "# Função para calcular o desconto do INSS com base no salário bruto.\n",
        "def calcular_desconto_inss(salario_bruto):\n",
        "    return salario_bruto * 0.08\n",
        "\n",
        "# Função para calcular o desconto do IRPF com base no salário bruto.\n",
        "def calcular_desconto_irpf(salario_bruto):\n",
        "    if salario_bruto > 1903.98:\n",
        "        return salario_bruto * 0.10\n",
        "    else:\n",
        "        return 0\n",
        "\n",
        "# Função para calcular o salário líquido com base no salário bruto e nos descontos.\n",
        "def calcular_salario_liquido(salario_bruto, desconto_inss, desconto_irpf):\n",
        "    return salario_bruto - desconto_inss - desconto_irpf\n",
        "\n",
        "# Função para adicionar informações de um funcionário ao dicionário da folha de pagamento.\n",
        "def adicionar_funcionario(folha_de_pagamento):\n",
        "    nome = input(\"Digite o nome: \")\n",
        "    salario_bruto = float(input(\"Digite o salário bruto: \"))\n",
        "\n",
        "    desconto_inss = calcular_desconto_inss(salario_bruto)\n",
        "    desconto_irpf = calcular_desconto_irpf(salario_bruto)\n",
        "    salario_liquido = calcular_salario_liquido(salario_bruto, desconto_inss, desconto_irpf)\n",
        "\n",
        "    folha_de_pagamento[nome] = {\n",
        "        \"salario_bruto\": salario_bruto,\n",
        "        \"desconto_inss\": desconto_inss,\n",
        "        \"desconto_irpf\": desconto_irpf,\n",
        "        \"salario_liquido\": salario_liquido,\n",
        "    }\n",
        "\n",
        "# Função para imprimir a folha de pagamento.\n",
        "def imprimir_folha_de_pagamento(folha_de_pagamento):\n",
        "    for nome, dados in folha_de_pagamento.items():\n",
        "        print(\"Nome:\",nome, \"Salario Bruto:\",dados[\"salario_bruto\"], \"Desconto Inss:\",dados[\"desconto_inss\"], \"Desconto Irpf:\",dados[\"desconto_irpf\"], \"Salario Liquido:\",dados[\"salario_liquido\"])\n",
        "\n",
        "# Função principal que controla o fluxo do programa.\n",
        "def main():\n",
        "    # Cria um dicionário vazio para armazenar a folha de pagamento.\n",
        "    folha_de_pagamento = {}\n",
        "\n",
        "    # Solicita dados dos funcionários até que o usuário decida parar.\n",
        "    while True:\n",
        "        adicionar_funcionario(folha_de_pagamento)\n",
        "\n",
        "        # Pergunta se o usuário deseja continuar adicionando funcionários.\n",
        "        continuar = input(\"Deseja continuar? (s/n): \")\n",
        "        if continuar != \"s\":\n",
        "            break\n",
        "\n",
        "    # Imprime a folha de pagamento.\n",
        "    imprimir_folha_de_pagamento(folha_de_pagamento)\n",
        "\n",
        "if __name__ == \"__main__\":\n",
        "    main()\n",
        "\n"
      ],
      "metadata": {
        "id": "QCT79uj5loBp"
      },
      "execution_count": null,
      "outputs": []
    }
  ]
}