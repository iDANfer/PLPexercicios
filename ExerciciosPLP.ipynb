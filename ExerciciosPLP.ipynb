{
  "nbformat": 4,
  "nbformat_minor": 0,
  "metadata": {
    "colab": {
      "provenance": [],
      "toc_visible": true,
      "authorship_tag": "ABX9TyNTytQZFubRKIk5EHOi1YMB",
      "include_colab_link": true
    },
    "kernelspec": {
      "name": "python3",
      "display_name": "Python 3"
    },
    "language_info": {
      "name": "python"
    }
  },
  "cells": [
    {
      "cell_type": "markdown",
      "metadata": {
        "id": "view-in-github",
        "colab_type": "text"
      },
      "source": [
        "<a href=\"https://colab.research.google.com/github/iDANfer/PLPexercicios/blob/main/ExerciciosPLP.ipynb\" target=\"_parent\"><img src=\"https://colab.research.google.com/assets/colab-badge.svg\" alt=\"Open In Colab\"/></a>"
      ]
    },
    {
      "cell_type": "markdown",
      "source": [
        "Programa 01 - Objetivo:Fazer a Leitura de duas nota e caulcular a media"
      ],
      "metadata": {
        "id": "YDBauJUOOSHh"
      }
    },
    {
      "cell_type": "code",
      "source": [
        "nota1 = float(input(\"Informe a Nota 1: \"))\n",
        "nota2 = float(input(\"Informe a Nota 2: \"))\n",
        "med = (nota1 + nota2)/2\n",
        "print(\"A media final é:\")\n",
        "print(med)"
      ],
      "metadata": {
        "id": "64yC7A4ANQ0Z"
      },
      "execution_count": null,
      "outputs": []
    },
    {
      "cell_type": "markdown",
      "source": [
        "Programa 02"
      ],
      "metadata": {
        "id": "bj-PRPkDOZgZ"
      }
    },
    {
      "cell_type": "code",
      "source": [
        "precoProduto = float(input(\"Informe o preço do produto: \"))\n",
        "descontoProduto = float(input(\"Informe o Valor do Desconto:\"))\n",
        "\n",
        "def valorDesconto(precoProduto, descontoProduto):\n",
        "    descontoFinal = precoProduto * descontoProduto / 100\n",
        "    return descontoFinal\n",
        "\n",
        "def valorFinal(precoProduto, descontoProduto):\n",
        "    desconto = valorDesconto(precoProduto, descontoProduto)\n",
        "    precofinal = precoProduto - desconto\n",
        "    return precofinal\n",
        "\n",
        "resultadoDesconto = valorDesconto(precoProduto, descontoProduto)\n",
        "resultadoFinal = valorFinal(precoProduto, resultadoDesconto)\n",
        "\n",
        "print(\"O Valor Final é:\", resultadoFinal)\n",
        "\n"
      ],
      "metadata": {
        "id": "RC3BtOCeO55g",
        "colab": {
          "base_uri": "https://localhost:8080/"
        },
        "outputId": "0d86edde-c67e-4c4f-85ae-f4dbd4486f3e"
      },
      "execution_count": null,
      "outputs": [
        {
          "output_type": "stream",
          "name": "stdout",
          "text": [
            "Informe o preço do produto: 10\n",
            "Informe o Valor do Desconto:2\n",
            "O Valor Final é: 9.98\n"
          ]
        }
      ]
    },
    {
      "cell_type": "code",
      "source": [
        "precoProduto = float(input(\"Informe o preço do produto: \"))\n",
        "descontoProduto = float(input(\"Informe o Valor do Desconto: \"))\n",
        "\n",
        "def valorDesconto(precoProduto, descontoProduto):\n",
        "    descontoFinal = precoProduto * descontoProduto / 100\n",
        "    return descontoFinal\n",
        "\n",
        "def valorFinal(precoProduto, descontoProduto):\n",
        "    desconto = valorDesconto(precoProduto, descontoProduto)\n",
        "    precofinal = precoProduto - desconto\n",
        "    return precofinal\n",
        "\n",
        "resultadoDesconto = valorDesconto(precoProduto, descontoProduto)\n",
        "resultadoFinal = valorFinal(precoProduto, descontoProduto)\n",
        "\n",
        "print(\"O Valor do Desconto é:\", resultadoDesconto)\n",
        "print(\"O Valor Final é:\", resultadoFinal)\n"
      ],
      "metadata": {
        "id": "0fKUQw_-ZJcD",
        "outputId": "d23a2949-7908-4c9f-cb04-6bb0d8fcdb24",
        "colab": {
          "base_uri": "https://localhost:8080/"
        }
      },
      "execution_count": null,
      "outputs": [
        {
          "output_type": "stream",
          "name": "stdout",
          "text": [
            "Informe o preço do produto: 12\n",
            "Informe o Valor do Desconto: 5\n",
            "O Valor do Desconto é: 0.6\n",
            "O Valor Final é: 11.4\n"
          ]
        }
      ]
    },
    {
      "cell_type": "markdown",
      "source": [
        "Escreva um programa para calcular a redução do tempo de vida de um fumante. pergunte a quantidade de cigarros fumados por dia e quantos anos ele ja fumou. considere que um fumante peder 10 minutos de vida a cada cigarro, e calcule quantos dias de vida um fumante perderá. Exiba o total em dias."
      ],
      "metadata": {
        "id": "C5ur2YsgVWMc"
      }
    },
    {
      "cell_type": "code",
      "source": [
        "qtdCigarrosPd = int(input(\"Informe a quantidade de cigarros fumados por dia: \"))\n",
        "qtdAnosF = int(input(\"Informe a quantidade de anos já fumados: \"))\n",
        "\n",
        "def reducaoMin(qtdAnosF, qtdCigarrosPd):\n",
        "    return qtdAnosF * 365 * qtdCigarrosPd * 10\n",
        "\n",
        "def reducaoDias(reducaoMin):\n",
        "    anosPerdidos = reducaoMin / (60 * 24)\n",
        "    return anosPerdidos\n",
        "\n",
        "mntPerdidos = reducaoMin(qtdAnosF, qtdCigarrosPd)\n",
        "anosPerdidos = reducaoDias(mntPerdidos)\n",
        "\n",
        "print(\"Anos Perdidos:\", format(anosPerdidos, \".2f\"))"
      ],
      "metadata": {
        "id": "-H_xwtV4V3Br"
      },
      "execution_count": null,
      "outputs": []
    },
    {
      "cell_type": "markdown",
      "source": [
        "Escreva um programa para controlar uma máquina registradora . você deve solicitar ao usuário que digite o código do produto ea quantidade comprada. utilize a tabela de códigos  a seguir para obiter o preço de cada produto:\n",
        "\n",
        "Código Preço 1 - 0,50 ; 2- 1,00 ; 3- 4,00 ; 5- 7,00; 9- 8,00 ; seu programa deve exibir o total das compras depois que o usuario digitar 0. qualquer código dever gerar una mensagem de erro \"código invalido\"."
      ],
      "metadata": {
        "id": "CEctn5wYXht8"
      }
    },
    {
      "cell_type": "code",
      "source": [
        "def totalapagar(codigoProduto, qtdComprada):\n",
        "    if codigoProduto == 0:\n",
        "        return 0\n",
        "    elif codigoProduto == 1:\n",
        "        return qtdComprada * 0.5\n",
        "    elif codigoProduto == 2:\n",
        "        return qtdComprada * 1.00\n",
        "    elif codigoProduto == 3:\n",
        "        return qtdComprada * 4.00\n",
        "    elif codigoProduto == 5:\n",
        "        return qtdComprada * 7.00\n",
        "    elif codigoProduto == 9:\n",
        "        return qtdComprada * 8.00\n",
        "    else:\n",
        "        return -1\n",
        "\n",
        "while True:\n",
        "\n",
        "    print(\"Tabela de Produtos:\")\n",
        "    print(\"Código 1 - Produto A - R$0.50\")\n",
        "    print(\"Código 2 - Produto B - R$1.00\")\n",
        "    print(\"Código 3 - Produto C - R$4.00\")\n",
        "    print(\"Código 5 - Produto D - R$7.00\")\n",
        "    print(\"Código 9 - Produto E - R$8.00\")\n",
        "    print(\"Código 0 - Finalizar\")\n",
        "\n",
        "    codigoProduto = int(input(\"Informe o código do produto (ou 0 para sair): \"))\n",
        "\n",
        "    if codigoProduto == 0:\n",
        "        print(\"Finalizando programa\")\n",
        "        break\n",
        "\n",
        "    qtdComprada = int(input(\"Informe a quantidade desejada: \"))\n",
        "    precoTotal = totalapagar(codigoProduto, qtdComprada)\n",
        "\n",
        "    if precoTotal >= 0:\n",
        "        print(\"O preço do produto é R$:\", precoTotal)\n",
        "    else:\n",
        "        print(\"Código inválido\")\n"
      ],
      "metadata": {
        "id": "mB83xE8CgpRy"
      },
      "execution_count": null,
      "outputs": []
    },
    {
      "cell_type": "markdown",
      "source": [
        "Le um vetor de 8 posições e , em seguida lê os dois valores x e y quaisquer correspondentes a duas posições no vetor . o programa então imprime a soma dos valores encontrados nas respectivas posições x e y."
      ],
      "metadata": {
        "id": "_6KNIqDhdTz1"
      }
    },
    {
      "cell_type": "code",
      "source": [
        "def obter_vetor():\n",
        "    vetor = []\n",
        "    for i in range(8):\n",
        "        valor = int(input(f\"Digite o Valor para a posição {i}: \"))  # Solicita um valor para o vetor e armazena na lista vetor\n",
        "        vetor.append(valor)\n",
        "    return vetor\n",
        "\n",
        "def obter_x_y():\n",
        "    x = int(input(\"Digite o Valor de X (0-7): \"))  # Solicita o valor de x\n",
        "    y = int(input(\"Digite o Valor de Y (0-7): \"))  # Solicita o valor de y\n",
        "    return x, y\n",
        "\n",
        "def calcular_soma(vetor, x, y):\n",
        "    if 0 <= x < 8 and 0 <= y < 8:  # Verifica se x e y estão dentro do intervalo válido (0 a 7)\n",
        "        soma = vetor[x] + vetor[y]  # Calcula a soma dos valores nas posições x e y\n",
        "        return soma\n",
        "    else:\n",
        "        return None  # Retorna None se os valores de x ou y estiverem fora do intervalo válido\n",
        "\n",
        "def main():\n",
        "    vetor = obter_vetor()  # Chama a função para obter o vetor\n",
        "    x, y = obter_x_y()  # Chama a função para obter x e y\n",
        "    resultado = calcular_soma(vetor, x, y)  # Chama a função para calcular a soma\n",
        "\n",
        "    if resultado is not None:\n",
        "        print(f\"A soma dos valores na posição {x} e {y} é {resultado}\")  # Exibe a soma se os valores de x e y estiverem no intervalo válido\n",
        "    else:\n",
        "        print(\"Valores fora do intervalo válido\")  # Exibe uma mensagem se os valores de x ou y estiverem fora do intervalo válido\n",
        "\n",
        "if __name__ == \"__main__\":\n",
        "    main()\n"
      ],
      "metadata": {
        "id": "ULOCG3hYdSz1"
      },
      "execution_count": null,
      "outputs": []
    },
    {
      "cell_type": "markdown",
      "source": [
        "Faça um progrma e phyton que receba do usuario um vetor com 10 posições. em seguida devera ser impresso o maior e o menor do vetor"
      ],
      "metadata": {
        "id": "dBYkF9qYjjwY"
      }
    },
    {
      "cell_type": "code",
      "source": [
        "def solicitar_valores():\n",
        "    vetor = []\n",
        "    soma = 0\n",
        "\n",
        "    for i in range(10):\n",
        "        while True:\n",
        "            try:\n",
        "                valor = int(input(f\"Digite o Valor para a posição {i+1}: \"))  # Solicita um valor do vetor\n",
        "                vetor.append(valor)\n",
        "                soma += valor  # Acumula o valor à variável soma\n",
        "                break  # Sai do loop se o valor for válido\n",
        "            except ValueError:\n",
        "                print(\"Valor inválido. Por favor, insira um número inteiro válido.\")\n",
        "\n",
        "    return vetor, soma\n",
        "\n",
        "def calcular_maior_menor_media(vetor):\n",
        "    maior = max(vetor)  # Encontra o maior valor no vetor\n",
        "    menor = min(vetor)  # Encontra o menor valor no vetor\n",
        "    media = sum(vetor) / len(vetor)  # Calcula a média dos valores no vetor\n",
        "    return maior, menor, media\n",
        "\n",
        "def contar_valores_maiores_que_cinco(vetor):\n",
        "    qtdMQ5 = sum(1 for valor in vetor if valor > 5)  # Contador de valores no vetor que são maiores que 5\n",
        "    return qtdMQ5\n",
        "\n",
        "def main():\n",
        "    vetor, soma = solicitar_valores()\n",
        "    maior, menor, media = calcular_maior_menor_media(vetor)\n",
        "    qtdMQ5 = contar_valores_maiores_que_cinco(vetor)\n",
        "\n",
        "    print(f\"O maior valor do vetor é: {maior}\")\n",
        "    print(f\"O menor valor do vetor é: {menor}\")\n",
        "    print(f\"A soma de todos os valores do vetor é: {soma}\")\n",
        "    print(f\"A média dos valores do vetor é: {media}\")\n",
        "    print(f\"A quantidade de valores maiores que 5 no vetor é: {qtdMQ5}\")\n",
        "\n",
        "if __name__ == \"__main__\":\n",
        "    main()\n"
      ],
      "metadata": {
        "id": "FyeqvWUJrBqB"
      },
      "execution_count": null,
      "outputs": []
    }
  ]
}